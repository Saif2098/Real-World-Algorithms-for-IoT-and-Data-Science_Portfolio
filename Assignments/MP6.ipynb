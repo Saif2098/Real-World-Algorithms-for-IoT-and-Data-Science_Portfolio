{
 "cells": [
  {
   "attachments": {},
   "cell_type": "markdown",
   "metadata": {},
   "source": [
    "# ECE/CS 434 | MP6: Dynamic Time Warping\n",
    "\n",
    "### Saif Ur Rahman\n",
    "### saifu2\n",
    "<br />\n",
    "<nav>\n",
    "    <span class=\"alert alert-block alert-warning\">Due on Thursday May 4th 11:59PM on Gradescope</span>\n",
    "</nav><br> \n"
   ]
  },
  {
   "cell_type": "markdown",
   "metadata": {},
   "source": [
    "----\n",
    "## Objective\n",
    "In this MP, you will:\n",
    "- Implement the Dynamic Time Warping Algorithm\n",
    "- Use the DTW algorithm to identify missing windows in time series data"
   ]
  },
  {
   "cell_type": "markdown",
   "metadata": {},
   "source": [
    "----\n",
    "## Imports"
   ]
  },
  {
   "cell_type": "code",
   "execution_count": 2,
   "metadata": {},
   "outputs": [
    {
     "name": "stderr",
     "output_type": "stream",
     "text": [
      "/opt/anaconda3/envs/CS434/lib/python3.9/site-packages/scipy/__init__.py:138: UserWarning: A NumPy version >=1.16.5 and <1.23.0 is required for this version of SciPy (detected version 1.23.5)\n",
      "  warnings.warn(f\"A NumPy version >={np_minversion} and <{np_maxversion} is required for this version of \"\n"
     ]
    }
   ],
   "source": [
    "import numpy as np\n",
    "import random\n",
    "import scipy\n",
    "\n",
    "# This function is used to format test results. You don't need to touch it.\n",
    "def display_table(data):\n",
    "    from IPython.display import HTML, display\n",
    "\n",
    "    html = \"<table>\"\n",
    "    for row in data:\n",
    "        html += \"<tr>\"\n",
    "        for field in row:\n",
    "            html += \"<td><h4>{}</h4><td>\".format(field)\n",
    "        html += \"</tr>\"\n",
    "    html += \"</table>\"\n",
    "    display(HTML(html))"
   ]
  },
  {
   "cell_type": "markdown",
   "metadata": {},
   "source": [
    "----\n",
    "## Problem Setting\n",
    "Many off-the-shelf smart watches today are capable of taking the user's electrocardiogram (also called an ECG or EKG), a test that records the timing and strength of the electrical signals that make the heart beat. However, wearing the watch too loose, having sweat or dirt between the watch and wrist can all result in poor readings. In this MP, we will simulate this scenario. You will be given a ground truth reading $X$, and a watch reading $Y$. The watch reading will have 1 missing time window and added noise compared to the ground truth reading. In other words, $Y = X\\setminus W + N$, where $W$ is the missing time window and $N$ is random noise. Your task is to identify the start of the missing time window.\n",
    "\n",
    "For example, let $X = [1, 2, 3, 4, 5]$ and $Y = [0.9, 2.1, 5.2]$. We can see that the values $3$ and $4$ in $X$ are missing from $Y$. Your program should then return $2$, which is the index of the first missing value in $X$, aka the index of $3$ in $X$\n",
    "\n",
    "Note that we are only simulating an ECG missing data scenario. The data used is not actually ECG data. However, this should not make a difference in your implementation.\n",
    "\n",
    "<div class=\"alert alert-block alert-info\"><b>Hint 1:</b> The DTW algorithm essentially constructs a cost matrix, $C$, between the two signals, based on the distance between points in the two signals. For every cell in this matrix, its value can be calculated as such: $C(c_j, r_j) = distance(c_j,r_j) + min\\{C(c_{j-1}, r_{j-1}), C(c_{j-1, r_{j}}), C(c_{j}, r_{j-1})\\}$. Refer to the lecture notes for more details.</div>\n",
    "\n",
    "<div class=\"alert alert-block alert-info\"><b>Hint 2:</b> The missing time window can be identified by examining the cost matrix: 1 time point in $Y$ will match to multiple time points in $X$. You can approach this by starting at (0, 0) of the cost matrix and traveling towards (len(X), len(Y)). At every step, make a decision to go right, down or diagonal by choosing the cell with minimal cost. If for multiple steps in a row, the decision is to go down, then you might have encountered the missing time window since 1 point in $Y$ is being matched to multiple points in $X$</div>"
   ]
  },
  {
   "cell_type": "markdown",
   "metadata": {},
   "source": [
    "----\n",
    "## Your Implementation\n",
    "Implement your algorithm in the function `find_missing_window(X, Y, N)`. Do **NOT** change its function signature. You are, however, free to define and use helper functions. You are **NOT** allowed to use existing Python DTW packages."
   ]
  },
  {
   "cell_type": "code",
   "execution_count": 22,
   "metadata": {},
   "outputs": [],
   "source": [
    "def get_consecutive_indices(lst, num):\n",
    "    indices = []\n",
    "    length = []\n",
    "    temp = []\n",
    "    for i in range(len(lst)):\n",
    "        if lst[i] == num:\n",
    "            temp.append(i)\n",
    "        else:\n",
    "            if len(temp) > 0:\n",
    "                indices.append(temp[0]+1)\n",
    "                length.append(len(temp))\n",
    "                temp = []\n",
    "    if len(temp) > 0:\n",
    "        indices.append(temp[0]+1)\n",
    "        length.append(len(temp))\n",
    "        \n",
    "        \n",
    "    # sort list2 based on the sorted order of list1\n",
    "    indices_sorted = [x for _, x in sorted(zip(length, indices), reverse=True)]\n",
    "      \n",
    "    return indices_sorted\n",
    "  \n",
    "\n",
    "def find_missing_window(X, Y, N):\n",
    "    \"\"\"Identifies where data is missing.\n",
    "    Args:\n",
    "      X: The ground truth signal\n",
    "      Y: Signal with 1 time window missing from X and added noise\n",
    "      N: Approximate length of the missing time window\n",
    "    Returns: Candidate indices of the missing time window in X. See section above for an example.\n",
    "    You may return up to 3 candidate results. You will receive full points as long as 1 falls within the grading criteria.\n",
    "    For example, if you think the missing time window starts at index 3 but indices 8 and 40 are also possible, \n",
    "    then return [3, 8, 40].\n",
    "    \"\"\"\n",
    "    # Dissimilarity Matrix: size len(X) x len(Y)\n",
    "    diff_matrix = np.abs(np.subtract.outer(X, Y))\n",
    "    \n",
    "    # Cost Matrix\n",
    "    cost_matrix = np.zeros(diff_matrix.shape) # this matrix stors the DTW cost\n",
    "    path_matrix = np.zeros(diff_matrix.shape) # this matrix stores path path taken\n",
    "    # path taken can be either down (1), right (2), or diagonal (3)\n",
    "    \n",
    "    cost_matrix[0, :] = np.cumsum(diff_matrix[0, :])\n",
    "    path_matrix[0, :] = np.ones(np.array(diff_matrix[0, :]).shape) * 1\n",
    "    cost_matrix[:, 0] = np.cumsum(diff_matrix[:, 0])\n",
    "    path_matrix[:, 0] = np.ones(np.array(diff_matrix[:, 0]).shape) * 2\n",
    "    \n",
    "    for i in range(1, cost_matrix.shape[0]):\n",
    "    \n",
    "      for j in range(1, cost_matrix.shape[1]):\n",
    "    \n",
    "        cost_matrix[i,j] = diff_matrix[i,j] + min(cost_matrix[-1+i,j], \n",
    "                                                  cost_matrix[i,-1+j], cost_matrix[-1+i,-1+j])\n",
    "    \n",
    "        if np.argmin([cost_matrix[-1+i,j], cost_matrix[i,-1+j], cost_matrix[-1+i,-1+j]]) == 0:\n",
    "          path_matrix[i, j] = 1\n",
    "        elif np.argmin([cost_matrix[-1+i,j], cost_matrix[i,-1+j], cost_matrix[-1+i,-1+j]]) == 1:\n",
    "          path_matrix[i, j] = 2\n",
    "        else:\n",
    "          path_matrix[i, j] = 0\n",
    "        \n",
    "        \n",
    "    \n",
    "    # Reconstruct path by backtracking along the path matrix\n",
    "    # This path is in terms of the up, down, and diagonal movements\n",
    "    index = [cost_matrix.shape[0]-1, cost_matrix.shape[1]-1] # this is the index of that path\n",
    "    reconstructed_path = [path_matrix[index[0], index[1]]]\n",
    "    \n",
    "    while index != [0,0] and index[0] >-1 and index[1]>-1:\n",
    "      \n",
    "      if reconstructed_path[0] == 1:\n",
    "        # go up\n",
    "        index = [index[0]-1, index[1]]\n",
    "      elif reconstructed_path == 2:\n",
    "        # go left\n",
    "        index = [index[0], index[1]-1]\n",
    "      else:\n",
    "        # go diagonal\n",
    "        index = [index[0]-1, index[1]-1]\n",
    "              \n",
    "      reconstructed_path = [path_matrix[index[0], index[1]]] + reconstructed_path\n",
    "      \n",
    "    output = get_consecutive_indices(reconstructed_path, 1)\n",
    "    # output = output.sort()\n",
    "      \n",
    "    return output if len(output) <= 3 else output[:3]"
   ]
  },
  {
   "cell_type": "markdown",
   "metadata": {},
   "source": [
    "---\n",
    "## Running and Testing\n",
    "Use the cell below to run and test your code, and to get an estimate of your grade."
   ]
  },
  {
   "cell_type": "code",
   "execution_count": 23,
   "metadata": {},
   "outputs": [
    {
     "data": {
      "text/html": [
       "<table><tr><td><h4>Test</h4><td><td><h4>Correct Index</h4><td><td><h4>Calculated Indices</h4><td><td><h4>Grade</h4><td></tr><tr><td><h4>0</h4><td><td><h4>3</h4><td><td><h4>[3]</h4><td><td><h4>10 / 10</h4><td></tr><tr><td><h4>1</h4><td><td><h4>5</h4><td><td><h4>[7, 5]</h4><td><td><h4>10 / 10</h4><td></tr><tr><td><h4>2</h4><td><td><h4>56</h4><td><td><h4>[59, 56]</h4><td><td><h4>10 / 10</h4><td></tr><tr><td><h4>3</h4><td><td><h4>32</h4><td><td><h4>[32, 36]</h4><td><td><h4>10 / 10</h4><td></tr><tr><td><h4><i>👻 Hidden test 0 👻</i></h4><td><td><h4><i>???</i></h4><td><td><h4><i>???</i></h4><td><td><h4><i>???</i> / 10</h4><td></tr><tr><td><h4><i>👻 Hidden test 1 👻</i></h4><td><td><h4><i>???</i></h4><td><td><h4><i>???</i></h4><td><td><h4><i>???</i> / 10</h4><td></tr><tr><td><h4><i>👻 Hidden test 2 👻</i></h4><td><td><h4><i>???</i></h4><td><td><h4><i>???</i></h4><td><td><h4><i>???</i> / 10</h4><td></tr><tr><td><h4><i>👻 Hidden test 3 👻</i></h4><td><td><h4><i>???</i></h4><td><td><h4><i>???</i></h4><td><td><h4><i>???</i> / 10</h4><td></tr></table>"
      ],
      "text/plain": [
       "<IPython.core.display.HTML object>"
      ]
     },
     "metadata": {},
     "output_type": "display_data"
    }
   ],
   "source": [
    "def calculate_score(groundtruth, candidates, threshold):\n",
    "    for candidate in candidates:\n",
    "        if(groundtruth - threshold < candidate < groundtruth + threshold):\n",
    "            return 1\n",
    "    return 0\n",
    "import matplotlib.pyplot as plt    \n",
    "if __name__ == '__main__':\n",
    "    output = [['Test', 'Correct Index', 'Calculated Indices', 'Grade']]\n",
    "    windows = [3, 5, 56, 32] # 20\n",
    "    N = [2, 2, 4, 5]\n",
    "    for i in range(4):\n",
    "        X = np.loadtxt(open('{}_X.csv'.format(i), \"rb\"), delimiter=\",\", skiprows=1)\n",
    "        Y = np.loadtxt(open('{}_Y.csv'.format(i), \"rb\"), delimiter=\",\", skiprows=1)\n",
    "        student_answer = find_missing_window(X, Y, N[i])\n",
    "        score = calculate_score(windows[i], student_answer, max(4, N[i] * 0.5))\n",
    "        output.append([i, windows[i], student_answer, \"{:0.0f} / 10\".format(score * 10)])\n",
    "    output.append(['<i>👻 Hidden test 0 👻</i>','<i>???</i>', '<i>???</i>', '<i>???</i> / 10'])\n",
    "    output.append(['<i>👻 Hidden test 1 👻</i>','<i>???</i>', '<i>???</i>', '<i>???</i> / 10'])\n",
    "    output.append(['<i>👻 Hidden test 2 👻</i>','<i>???</i>', '<i>???</i>', '<i>???</i> / 10'])\n",
    "    output.append(['<i>👻 Hidden test 3 👻</i>','<i>???</i>', '<i>???</i>', '<i>???</i> / 10'])\n",
    "    display_table(output)"
   ]
  },
  {
   "cell_type": "markdown",
   "metadata": {},
   "source": [
    "---\n",
    "## Rubric\n",
    "You will be graded on the four datasets provided to you (10 points each) and four additional datasets. We will use the same code from the **Running and Testing** section above to grade all 8 traces of data. As long as 1 of 3 candidate outputs are within the grading threshold($max[4, window\\_size \\times 0.5]$), you will receive 10 points. No partial credit is rewarded since we are essentially allowing 3 guesses."
   ]
  },
  {
   "cell_type": "markdown",
   "metadata": {},
   "source": [
    "----\n",
    "## Submission Guidelines\n",
    "This Jupyter notebook (`MP6.ipynb`) is the only file you need to submit on Gradescope. Since this is the last MP, you can expect the grade you see on Gradescope to be the final grade of this MP. Regrade requests are not accepted.\n",
    "\n",
    "**Make sure any code you added to this notebook, except for import statements, is either in a function or guarded by `__main__`(which won't be run by the autograder). Gradescope will give you immediate feedback using the provided test cases. It is your responsibility to check the output before the deadline to ensure your submission runs with the autograder.**"
   ]
  }
 ],
 "metadata": {
  "kernelspec": {
   "display_name": "Python 3",
   "language": "python",
   "name": "python3"
  },
  "language_info": {
   "codemirror_mode": {
    "name": "ipython",
    "version": 3
   },
   "file_extension": ".py",
   "mimetype": "text/x-python",
   "name": "python",
   "nbconvert_exporter": "python",
   "pygments_lexer": "ipython3",
   "version": "3.9.16"
  }
 },
 "nbformat": 4,
 "nbformat_minor": 2
}
