{
  "cells": [
    {
      "cell_type": "markdown",
      "metadata": {
        "id": "dPszpz29ddUD"
      },
      "source": [
        "# ECE/CS 434 | MP2: DUET\n",
        "<br />\n",
        "<nav>\n",
        "    <span class=\"alert alert-block alert-warning\">Due on Monday Feb 27 11:59PM on Gradescope</span>\n",
        "   \n",
        "</nav><br> \n"
      ]
    },
    {
      "cell_type": "markdown",
      "metadata": {
        "id": "4t9qXUJkddUH"
      },
      "source": [
        "## Objective\n",
        "In this MP, you will:\n",
        "- Implement DUET algorithm to separate a mixture of N voice signals from received from two microphones"
      ]
    },
    {
      "cell_type": "markdown",
      "source": [
        "Saif Ur Rahman\n",
        "saifu2"
      ],
      "metadata": {
        "id": "oAcOu3bJgkrC"
      }
    },
    {
      "cell_type": "markdown",
      "metadata": {
        "id": "7g3IdFpLddUH"
      },
      "source": [
        "---\n",
        "## Problem Overview\n",
        "Consider a problem of separating N sources ($S_1$, $S_2$, ... $S_N$) from recordings on 2 microphones ($R_1$ and $R_2$).\n",
        "According to DUET algorithm, you will need to perform the following steps:\n",
        "\n",
        "- Calculate the short-time Fourier transform of two received signals to get the time-frequency spectrograms\n",
        "- Calculate the ratio of the two time-frequency spectrograms to get relative delay and attenuation\n",
        "- Cluster the time-frequency bins in the 2D space spanned by relative delay and attenuation\n",
        "- Recover the original N signals based on the clustering results\n",
        "\n",
        "You can refer to the original DUET paper in ICASSP 2000: \"Blind separation of disjoint orthogonal signals: demixing N sources from 2 mixtures\" and this tutorial in Blind speech separation, 2007 - Springer: \"The DUET blind source separation algorithm\"\n",
        "\n",
        "For the sake of easier clustering, the exact number of sources N will be provided to you.\n",
        "\n",
        "You can assume there is no time-frequency bin collision for any two sources."
      ]
    },
    {
      "cell_type": "markdown",
      "metadata": {
        "id": "-nC62qJrddUI"
      },
      "source": [
        "---\n",
        "## Imports & Setup\n",
        "To run the grading script of this MP, you will need to install the Python [SpeechRecognition](https://pypi.org/project/SpeechRecognition/) package. The SpeechRecognition package also requires the dependency [pocketsphinx](https://pypi.org/project/pocketsphinx/). You may directly use pip install to install both packages.\n",
        "The following `code` cell, when run, imports the libraries you might need for this MP. Feel free to delete or import other commonly used libraries. Double check with the TA if you are unsure if a library is supported."
      ]
    },
    {
      "cell_type": "code",
      "source": [
        "# # Only Google Colab settings, uncomment this if you have to use google drive\n",
        "\n",
        "# from google.colab import drive\n",
        "# drive.mount('/content/drive')\n",
        "# %cd \"/content/drive/MyDrive/CS 434 Real-World Algorithms for IoT and Data Science/MP2_DUET/MP2_DUET 3\"\n",
        "# !pip install numpy==1.21.3\n",
        "# !pip install matplotlib==3.4.3\n",
        "# !pip install scipy==1.7.2\n",
        "# !pip install pocketsphinx\n",
        "# !pip install SpeechRecognition"
      ],
      "metadata": {
        "id": "0M5PzGVBXsHb"
      },
      "execution_count": null,
      "outputs": []
    },
    {
      "cell_type": "code",
      "execution_count": 391,
      "metadata": {
        "id": "Uh9Jqy_YddUI"
      },
      "outputs": [],
      "source": [
        "import numpy as np\n",
        "import scipy.io.wavfile\n",
        "import speech_recognition as sr\n",
        "import sys\n",
        "import os\n",
        "import wave\n",
        "import sys\n",
        "import cmath\n",
        "from sklearn.cluster import KMeans\n",
        "#import seaborn as sns\n",
        "from scipy import signal\n",
        "import cmath\n",
        "\n",
        "if __name__ == '__main__':\n",
        "    import matplotlib.pyplot as plt\n",
        "    plt.style.use(\"seaborn\") # This sets the matplotlib color scheme to something more soothing\n",
        "    from IPython import get_ipython\n",
        "    get_ipython().run_line_magic('matplotlib', 'inline')\n",
        "\n",
        "# This function is used to format test results. You don't need to touch it.\n",
        "def display_table(data):\n",
        "    from IPython.display import HTML, display\n",
        "    html = \"<table>\"\n",
        "    for row in data:\n",
        "        html += \"<tr>\"\n",
        "        for field in row:\n",
        "            html += \"<td><h4>%s</h4><td>\"%(field)\n",
        "        html += \"</tr>\"\n",
        "    html += \"</table>\"\n",
        "    display(HTML(html))"
      ]
    },
    {
      "cell_type": "markdown",
      "metadata": {
        "id": "ljqhWoW4ddUJ"
      },
      "source": [
        "### Sanity-check\n",
        "\n",
        "Running the following code block verifies that the correct module versions are indeed being used. \n",
        "\n",
        "Try restarting the Python kernel (or Jupyter) if there is a mismatch even after intalling the correct version. This might happen because Python's `import` statement does not reload already-loaded modules even if they are updated."
      ]
    },
    {
      "cell_type": "code",
      "execution_count": 392,
      "metadata": {
        "id": "dixvUHQ_ddUK",
        "colab": {
          "base_uri": "https://localhost:8080/",
          "height": 102
        },
        "outputId": "b8683400-e06c-4919-ffc0-ebc092b75e51"
      },
      "outputs": [
        {
          "output_type": "display_data",
          "data": {
            "text/plain": [
              "<IPython.core.display.HTML object>"
            ],
            "text/html": [
              "<text style='color:#4caf50;weight:700;'>[✓] scipy version 1.7.2 is correct.</text>"
            ]
          },
          "metadata": {}
        },
        {
          "output_type": "display_data",
          "data": {
            "text/plain": [
              "<IPython.core.display.HTML object>"
            ],
            "text/html": [
              "<text style='color:#4caf50;weight:700;'>[✓] speech_recognition version 3.9.0 is correct.</text>"
            ]
          },
          "metadata": {}
        },
        {
          "output_type": "display_data",
          "data": {
            "text/plain": [
              "<IPython.core.display.HTML object>"
            ],
            "text/html": [
              "<text style='color:#4caf50;weight:700;'>[✓] numpy version 1.21.3 is correct.</text>"
            ]
          },
          "metadata": {}
        },
        {
          "output_type": "display_data",
          "data": {
            "text/plain": [
              "<IPython.core.display.HTML object>"
            ],
            "text/html": [
              "<text style='color:#4caf50;weight:700;'>[✓] matplotlib version 3.4.3 is correct.</text>"
            ]
          },
          "metadata": {}
        },
        {
          "output_type": "display_data",
          "data": {
            "text/plain": [
              "<IPython.core.display.HTML object>"
            ],
            "text/html": [
              "<text style='color:#4caf50;weight:700;'>[✓] scipy version 1.7.2 is correct.</text>"
            ]
          },
          "metadata": {}
        }
      ],
      "source": [
        "if __name__ == '__main__':\n",
        "    from IPython.display import display, HTML\n",
        "\n",
        "    def printc(text, color):\n",
        "        display(HTML(\"<text style='color:{};weight:700;'>{}</text>\".format(color, text)))\n",
        "\n",
        "    _requirements = [r.split(\"==\") for r in open(\n",
        "        \"packages.txt\", \"r\").read().split(\"\\n\")]\n",
        "\n",
        "    import sys\n",
        "    for (module, expected_version) in _requirements:\n",
        "        try:\n",
        "            if sys.modules[module].__version__ != expected_version:\n",
        "                printc(\"[✕] {} version should to be {}, but {} is installed.\".format(\n",
        "                    module, expected_version, sys.modules[module].__version__), \"#f44336\")\n",
        "            else:\n",
        "                printc(\"[✓] {} version {} is correct.\".format(\n",
        "                    module, expected_version), \"#4caf50\")\n",
        "        except:\n",
        "            printc(\"[–] {} is not imported, skipping version check.\".format(\n",
        "                module), \"#03a9f4\")"
      ]
    },
    {
      "cell_type": "markdown",
      "metadata": {
        "id": "JRrGNFqRddUK"
      },
      "source": [
        "---\n",
        "## Your Implementation\n",
        "Implement your localization algorithm in the function `duet_source_separation(mic_data_folder, NUM_SOURCES)`. Do **NOT** change its function signature. You are, however, free to define and use helper functions. \n",
        "\n",
        "Your implementation for `duet_source_separation` function should **NOT** output any plots or data. It should only return the separated sources."
      ]
    },
    {
      "cell_type": "code",
      "execution_count": 395,
      "metadata": {
        "id": "UisT3IqdddUL"
      },
      "outputs": [],
      "source": [
        "def duet_source_separation(mic_data_folder, NUM_SOURCES):\n",
        "    \"\"\"DUET source separation algorithm. Write your code here.\n",
        "\n",
        "    Args:\n",
        "        mic_data_folder: name of folder (without a trailing slash) containing \n",
        "                         two mic datafiles `0.wav` and `1.wav`.\n",
        "\n",
        "    Returns:\n",
        "\n",
        "        NUM_SOURCES * recording_length numpy array, where NUM_SOURCES is the number of sources,\n",
        "        and recording_length is the original length of the recording (in number of samples)\n",
        "\n",
        "    \"\"\"\n",
        "\n",
        "    # read the files\n",
        "    fs0, x0 = scipy.io.wavfile.read(os.path.join(mic_data_folder, \"0.wav\"))\n",
        "    fs1, x1 = scipy.io.wavfile.read(os.path.join(mic_data_folder, \"1.wav\"))\n",
        "\n",
        "    # print(x0.shape)\n",
        "\n",
        "    #######################################################\n",
        "    ### Take STFT\n",
        "\n",
        "    # stft parameter settings\n",
        "    window_len = 1024\n",
        "    window_overlap = window_len // 2\n",
        "\n",
        "    # take stft, using mostly the default settings\n",
        "    f0, t0, Zxx0 = scipy.signal.stft(x0, fs0, nperseg=window_len, noverlap=window_overlap)\n",
        "    f1, t1, Zxx1 = scipy.signal.stft(x1, fs1, nperseg=window_len, noverlap=window_overlap)\n",
        "\n",
        "    # print(\"frequency length:\", len(f0))\n",
        "    # print(\"time length:\", len(t0))\n",
        "    # print(\"FFT shape:\", Zxx0.shape)\n",
        "\n",
        "    #######################################################\n",
        "    ### Calculate relative phase delta phi\n",
        "    # fmat implementation from springer resource\n",
        "    numfreq = window_overlap\n",
        "    freq = np.concatenate((np.arange(1, numfreq/2+1), np.arange(-(numfreq/2)+1, 2))) * (2*np.pi/numfreq)\n",
        "    freq[freq==0] = 1e12\n",
        "    fmat = np.tile(freq, (Zxx1.shape[1],1)).T\n",
        "\n",
        "    eps = 2.22e-16\n",
        "    rr = (Zxx1+eps)/(Zxx0+eps)\n",
        "    kk = -(np.imag((np.log(rr)/fmat)))\n",
        "    \n",
        "    delta_phi = kk\n",
        "    # delta_phi = (np.angle(np.log((Zxx1 + eps)/(Zxx0 + eps))) / fmat ) % (2*np.pi)\n",
        "    # print(\"the shape\", fmat.shape)\n",
        "\n",
        "    # #######\n",
        "    # delta_flat = delta_phi.flatten()\n",
        "    # plt.hist(delta_flat, bins=30)\n",
        "    # # Add labels and a title to the plot\n",
        "    # plt.xlabel(\"Value\")\n",
        "    # plt.ylabel(\"Frequency\")\n",
        "    # plt.title(\"Histogram of Deltas\")\n",
        "    # plt.show()\n",
        "    # ########\n",
        "\n",
        "    #######################################################\n",
        "    ### Clustering using K-Means \n",
        "\n",
        "    # Create a KMeans object with NUM_Scources clusters\n",
        "    kmeans = KMeans(n_clusters=NUM_SOURCES)\n",
        "    # Fit the KMeans model to the data, flatten before\n",
        "    delta_phi_flatten = (delta_phi.flatten()).reshape(-1,1)\n",
        "    kmeans.fit(delta_phi_flatten)\n",
        "    # Get the cluster labels and centroids\n",
        "    labels = kmeans.labels_\n",
        "    labels = labels.reshape(-1, delta_phi.shape[1])\n",
        "    centroids = kmeans.cluster_centers_\n",
        "\n",
        "    #######################################################\n",
        "    ### Create masks and multiply and take inverse STFT\n",
        "    reconstructed_audios = []\n",
        "    for i in range(kmeans.n_clusters):\n",
        "      mask = np.where(labels == i, 1, 0)\n",
        "      _, audio = scipy.signal.istft((Zxx0*mask), fs=fs0, nperseg=window_len, noverlap=window_overlap)\n",
        "      audio = audio[0:len(x0)]\n",
        "      audio = scipy.signal.savgol_filter(audio, 21, 2)\n",
        "      audio = np.array(audio).astype(np.int16)\n",
        "      \n",
        "      reconstructed_audios.append(audio)\n",
        "\n",
        "    \n",
        "    return np.vstack(reconstructed_audios)\n",
        "\n",
        "    ###\n",
        "    # # Plot the data points with color-coded clusters and centroids\n",
        "    # plt.scatter(delta_phi[:, 0], delta_phi[:, 1], c=labels)\n",
        "    # plt.scatter(centroids[:, 0], centroids[:, 1], marker='x', s=200, linewidths=3, color='r')\n",
        "    # # Add labels and a title to the plot\n",
        "    # plt.xlabel(\"Feature 1\")\n",
        "    # plt.ylabel(\"Feature 2\")\n",
        "    # plt.title(\"KMeans Clustering\")\n",
        "    # # Show the plot\n",
        "    # plt.show()\n",
        "    ###\n",
        "\n",
        "    \n",
        "\n",
        "    # temp = kmeans.predict(delta_phi)\n",
        "    # print(\"result shape\", delta_phi.shape)\n",
        "    \n",
        "\n",
        "    #plot the stft\n",
        "    # plt.pcolormesh(t0, f0, abs(Zxx0), cmap='inferno')\n",
        "    # plt.xlabel('Time (s)')\n",
        "    # plt.ylabel('Frequency (Hz)')\n",
        "    # plt.colorbar()\n",
        "    # plt.show()\n",
        "\n",
        "    # plt.pcolormesh(t1, f1, abs(Zxx1), cmap='inferno')\n",
        "    # plt.xlabel('Time (s)')\n",
        "    # plt.ylabel('Frequency (Hz)')\n",
        "    # plt.colorbar()\n",
        "    # plt.show()\n",
        "\n",
        "    # print(\"len f0\", f0.shape)\n",
        "    # print(\"shape Zxx0\", Zxx0.shape)\n",
        "\n",
        "    #return output"
      ]
    },
    {
      "cell_type": "code",
      "source": [
        "# folder = os.path.join(os.getcwd(), \"dataset3\")\n",
        "# duet_source_separation(folder, 3)"
      ],
      "metadata": {
        "colab": {
          "base_uri": "https://localhost:8080/"
        },
        "id": "k7Vky2EMg-os",
        "outputId": "a02b8c84-7f52-4db0-fe7e-2315bcff71da"
      },
      "execution_count": 396,
      "outputs": [
        {
          "output_type": "execute_result",
          "data": {
            "text/plain": [
              "array([[0, 0, 0, ..., 0, 0, 0],\n",
              "       [0, 0, 0, ..., 0, 0, 0],\n",
              "       [0, 0, 0, ..., 0, 0, 0]], dtype=int16)"
            ]
          },
          "metadata": {},
          "execution_count": 396
        }
      ]
    },
    {
      "cell_type": "markdown",
      "metadata": {
        "id": "Mysy5nucddUL"
      },
      "source": [
        "---\n",
        "## Running and Testing\n",
        "Use the cell below to run and test your code, and to get an estimate of your grade."
      ]
    },
    {
      "cell_type": "code",
      "execution_count": 398,
      "metadata": {
        "id": "CXQicdJJddUL",
        "colab": {
          "base_uri": "https://localhost:8080/",
          "height": 324
        },
        "outputId": "aec32520-8898-4737-f64c-77c74b4a52d1"
      },
      "outputs": [
        {
          "output_type": "display_data",
          "data": {
            "text/plain": [
              "<IPython.core.display.HTML object>"
            ],
            "text/html": [
              "<table><tr><td><h4>Dataset</h4><td><td><h4>Expected Output</h4><td><td><h4>Your Output</h4><td><td><h4>Grade</h4><td><td><h4>Points Awarded</h4><td></tr><tr><td><h4>1</h4><td><td><h4>{'hello how are you'}</h4><td><td><h4>{'hello how are you'}</h4><td><td><h4>100.00%</h4><td><td><h4>5.00 / 5.0</h4><td></tr><tr><td><h4>2</h4><td><td><h4>{'nice to meet you', 'how are you'}</h4><td><td><h4>{'nice to meet you', 'how are you'}</h4><td><td><h4>100.00%</h4><td><td><h4>5.00 / 5.0</h4><td></tr><tr><td><h4>3</h4><td><td><h4>{'good morning', 'nice to meet you', 'how are you'}</h4><td><td><h4>{'good morning', 'nice to meet you', 'how are you'}</h4><td><td><h4>100.00%</h4><td><td><h4>5.00 / 5.0</h4><td></tr><tr><td><h4><i>👻 Hidden test 1 👻</i></h4><td><td><h4><i>???</i></h4><td><td><h4><i>???</i></h4><td><td><h4><i>???</i></h4><td><td><h4><i>???</i> / 10.0</h4><td></tr><tr><td><h4><i>...</i></h4><td><td><h4><i>...</i></h4><td><td><h4><i>...</i></h4><td><td><h4><i>...</i></h4><td><td><h4><i>...</i></h4><td></tr><tr><td><h4><i>👻 Hidden test 7 👻</i></h4><td><td><h4><i>???</i></h4><td><td><h4><i>???</i></h4><td><td><h4><i>???</i></h4><td><td><h4><i>???</i> / 10.0</h4><td></tr></table>"
            ]
          },
          "metadata": {}
        }
      ],
      "source": [
        "def calculate_score(calculated, expected):\n",
        "    student_result = set()\n",
        "    calculated = np.array(calculated)\n",
        "    if calculated.shape[0] != len(expected):\n",
        "      return 0, {'Incorrect number of sources!'}\n",
        "    for i in range(calculated.shape[0]):\n",
        "        scipy.io.wavfile.write(\"temp.wav\",22050,calculated[i,:])\n",
        "        r = sr.Recognizer()\n",
        "        with sr.AudioFile(\"temp.wav\") as source:\n",
        "            audio = r.record(source)\n",
        "        try:\n",
        "            text = r.recognize_sphinx(audio)\n",
        "            student_result.add(text.lower())\n",
        "        except:\n",
        "            student_result.add(\"Sphinx could not understand audio\")\n",
        "    score = len(student_result.intersection(expected))/len(expected)\n",
        "    return score, student_result\n",
        "     \n",
        "if __name__ == '__main__':\n",
        "    groundtruth = [{\"hello how are you\"}, {\"nice to meet you\",\"how are you\"}, {\"how are you\",\"good morning\",\"nice to meet you\"}]\n",
        "    \n",
        "    output = [['Dataset', 'Expected Output', 'Your Output', 'Grade', 'Points Awarded']]\n",
        "    for i in range(1,4):\n",
        "        directory_name = 'dataset{}'.format(i)\n",
        "        student_output = duet_source_separation(directory_name, i)\n",
        "        result = calculate_score(student_output, groundtruth[i-1])   \n",
        "        output.append([\n",
        "            str(i),\n",
        "            str(groundtruth[i-1]), \n",
        "            str(result[1]), \n",
        "            \"{:2.2f}%\".format(result[0] * 100),\n",
        "            \"{:1.2f} / 5.0\".format(result[0] * 5),\n",
        "        ])\n",
        "\n",
        "    output.append([\n",
        "        '<i>👻 Hidden test 1 👻</i>', \n",
        "        '<i>???</i>', \n",
        "        '<i>???</i>', \n",
        "        '<i>???</i>', \n",
        "        \"<i>???</i> / 10.0\"])\n",
        "    output.append([\n",
        "        '<i>...</i>', \n",
        "        '<i>...</i>', \n",
        "        '<i>...</i>', \n",
        "        '<i>...</i>', \n",
        "        \"<i>...</i>\"])\n",
        "    output.append([\n",
        "        '<i>👻 Hidden test 7 👻</i>', \n",
        "        '<i>???</i>', \n",
        "        '<i>???</i>', \n",
        "        '<i>???</i>', \n",
        "        \"<i>???</i> / 10.0\"])\n",
        "    display_table(output)"
      ]
    },
    {
      "cell_type": "markdown",
      "metadata": {
        "id": "gogDNdnbddUM"
      },
      "source": [
        "---\n",
        "## Rubric\n",
        "You will be graded on the three data points provided to you (5 points each) and seven additional data points under different settings(10 points each). We will use the same code from the **Running and Testing** section above to grade all 10 traces of data. We will run ASR on your output to see if it generates the corrected separated speech signal. Output order does not matter. Percentage of grade for each data point is based on how many sources you estimated correctly (i.e., assume there are n sources, then you will get $\\frac{1}{n} * 100\\%$ for each correctedly estimated source)."
      ]
    },
    {
      "cell_type": "markdown",
      "metadata": {
        "id": "a_ApDXSrddUM"
      },
      "source": [
        "---\n",
        "## Submission Guidlines\n",
        "This Jupyter notebook (`MP2.ipynb`) is the only file you need to submit on Gradescope. As mentioned earlier, you will only be graded using your implementation of the `duet_source_separation` function, which should only return the calculated **NOT** output any plots or data. \n",
        "\n",
        "**Make sure any code you added to this notebook, except for import statements, is either in a function or guarded by `__main__`(which won't be run by the autograder). Gradescope will give you immediate feedback using the provided test cases. It is your responsibility to check the output before the deadline to ensure your submission runs with the autograder.**"
      ]
    }
  ],
  "metadata": {
    "colab": {
      "provenance": []
    },
    "kernelspec": {
      "display_name": "Python 3.9.7 64-bit",
      "language": "python",
      "name": "python3"
    },
    "language_info": {
      "codemirror_mode": {
        "name": "ipython",
        "version": 3
      },
      "file_extension": ".py",
      "mimetype": "text/x-python",
      "name": "python",
      "nbconvert_exporter": "python",
      "pygments_lexer": "ipython3",
      "version": "3.9.7"
    },
    "vscode": {
      "interpreter": {
        "hash": "397704579725e15f5c7cb49fe5f0341eb7531c82d19f2c29d197e8b64ab5776b"
      }
    }
  },
  "nbformat": 4,
  "nbformat_minor": 0
}