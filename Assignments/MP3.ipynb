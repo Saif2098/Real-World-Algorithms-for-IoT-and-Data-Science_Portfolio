{
  "cells": [
    {
      "cell_type": "markdown",
      "metadata": {
        "id": "as-E3oB7NcIu"
      },
      "source": [
        "# ECE/CS 434 | MP3: IMU PDR\n",
        "<br />\n",
        "<nav>\n",
        "    <span class=\"alert alert-block alert-warning\">Due at 11:59PM March 20th 2023 on Gradescope</span> |\n",
        "    <a href=\"https://www.gradescope.com/courses/490534/\">Gradescope</a> | \n",
        "    <a href=\"https://courses.grainger.illinois.edu/cs434/sp2023/\">Course Website</a> | \n",
        "</nav><br> \n",
        "\n",
        "**Name:** Saif Ur Rahman<br>\n",
        "**NetID:** saifu2\n",
        "\n",
        "<hr />  "
      ]
    },
    {
      "cell_type": "markdown",
      "metadata": {
        "id": "CCZergMRNcIw"
      },
      "source": [
        "## Objective\n",
        "In this MP, you will:\n",
        "- Implement a step estimation algorithm using accelerometer data.\n",
        "- Apply signal processing and linear algebra functions such as low/high pass filtering, peak detection, fft, etc. to the step estimation algorithm. \n",
        "- Track phone orientation through a sequence of gyroscope data by performing integration.\n",
        "- Implement simple PDR algorithm: find the final position of the user using steps, orientations and initial position"
      ]
    },
    {
      "cell_type": "markdown",
      "metadata": {
        "id": "3bd9jANaNcIx"
      },
      "source": [
        "---\n",
        "## Problem Overview\n",
        "In pedestrian dead-reckoning applications, two pieces of information need to be tracked: how far a user walked, and the direction of the walk. In the first part of this MP, you will derive the final orientation using a sequence of gyroscope data. In the second part, you will write a step estimation algorithm using accelerometer data as input and use it to calculate the final position of the user. "
      ]
    },
    {
      "cell_type": "markdown",
      "metadata": {
        "id": "UERQg4JFNcIx"
      },
      "source": [
        "---\n",
        "## Imports & Setup\n",
        "\n",
        "### Installing requirements correctly\n",
        "\n",
        "First. we will make sure that the correct versions of required modules are installed. This ensures that your local Python environment is consistent with the one running on the Gradescope autograder. Just convert the following cell to code and run:\n",
        "\n",
        "<div class=\"alert alert-block alert-info\"><b>Note:</b> It's preferred that your local environment matches the autograder to prevent possible inconsistencies. However, if you're running into annoying Python version issues but haven't had any issues getting consistent results on the autograder, there is no need to stress over it. Just skip for now and come back when you do encounter inconsistencies:) Ditto below.\n",
        "</div>"
      ]
    },
    {
      "cell_type": "markdown",
      "metadata": {
        "id": "au_N9BahNcIx"
      },
      "source": [
        "### Your imports\n",
        "Write your import statements below. If Gradescope reports an error and you believe it is due to an unsupported import, check with the TA to see if it could be added."
      ]
    },
    {
      "cell_type": "code",
      "source": [
        "# # Only Google Colab settings, uncomment this if you have to use google drive\n",
        "\n",
        "# from google.colab import drive\n",
        "# drive.mount('/content/drive')\n",
        "# %cd \"/content/drive/MyDrive/CS 434 Real-World Algorithms for IoT and Data Science/MP3_PDR\"\n",
        "# !pip install numpy==1.21.3\n",
        "# !pip install matplotlib==3.4.3\n",
        "# !pip install pandas==1.4.1"
      ],
      "metadata": {
        "id": "oLtzuK-wNqVy"
      },
      "execution_count": null,
      "outputs": []
    },
    {
      "cell_type": "code",
      "execution_count": 35,
      "metadata": {
        "id": "M_92LpCgNcIx"
      },
      "outputs": [],
      "source": [
        "import numpy as np\n",
        "import pandas as pd\n",
        "from pathlib import Path\n",
        "import math\n",
        "import matplotlib.pyplot as plt\n",
        "import scipy\n",
        "\n",
        "# This function is used to format test results. You don't need to touch it.\n",
        "def display_table(data):\n",
        "    from IPython.display import HTML, display\n",
        "\n",
        "    html = \"<table>\"\n",
        "    for row in data:\n",
        "        html += \"<tr>\"\n",
        "        for field in row:\n",
        "            html += \"<td><h4>{}</h4><td>\".format(field)\n",
        "        html += \"</tr>\"\n",
        "    html += \"</table>\"\n",
        "    display(HTML(html))"
      ]
    },
    {
      "cell_type": "markdown",
      "metadata": {
        "id": "VZVOFjiYNcIy"
      },
      "source": [
        "### Sanity-check\n",
        "\n",
        "Running the following code block verifies that the correct module versions are indeed being used. \n",
        "\n",
        "Try restarting the Python kernel (or Jupyter) if there is a mismatch even after intalling the correct version. This might happen because Python's `import` statement does not reload already-loaded modules even if they are updated."
      ]
    },
    {
      "cell_type": "code",
      "execution_count": 36,
      "metadata": {
        "id": "L3Q4DGO_NcIz",
        "colab": {
          "base_uri": "https://localhost:8080/",
          "height": 98
        },
        "outputId": "536d663b-7d35-495a-fc54-0cae89566ea0"
      },
      "outputs": [
        {
          "output_type": "display_data",
          "data": {
            "text/plain": [
              "<IPython.core.display.HTML object>"
            ],
            "text/html": [
              "<text style='color:#4caf50;weight:700;'>[✓] numpy version 1.21.3 is correct.</text>"
            ]
          },
          "metadata": {}
        },
        {
          "output_type": "display_data",
          "data": {
            "text/plain": [
              "<IPython.core.display.HTML object>"
            ],
            "text/html": [
              "<text style='color:#03a9f4;weight:700;'>[–] scikit-learn is not imported, skipping version check.</text>"
            ]
          },
          "metadata": {}
        },
        {
          "output_type": "display_data",
          "data": {
            "text/plain": [
              "<IPython.core.display.HTML object>"
            ],
            "text/html": [
              "<text style='color:#4caf50;weight:700;'>[✓] matplotlib version 3.4.3 is correct.</text>"
            ]
          },
          "metadata": {}
        },
        {
          "output_type": "display_data",
          "data": {
            "text/plain": [
              "<IPython.core.display.HTML object>"
            ],
            "text/html": [
              "<text style='color:#f44336;weight:700;'>[✕] scipy version should to be 1.7.2, but 1.10.1 is installed.</text>"
            ]
          },
          "metadata": {}
        },
        {
          "output_type": "display_data",
          "data": {
            "text/plain": [
              "<IPython.core.display.HTML object>"
            ],
            "text/html": [
              "<text style='color:#4caf50;weight:700;'>[✓] pandas version 1.4.1 is correct.</text>"
            ]
          },
          "metadata": {}
        }
      ],
      "source": [
        "if __name__ == '__main__':\n",
        "    from IPython.display import display, HTML\n",
        "\n",
        "    def printc(text, color):\n",
        "        display(HTML(\"<text style='color:{};weight:700;'>{}</text>\".format(color, text)))\n",
        "\n",
        "    _requirements = [r.split(\"==\") for r in open(\n",
        "        \"requirements.txt\", \"r\").read().strip().split(\"\\n\")]\n",
        "\n",
        "    import sys\n",
        "    for (module, expected_version) in _requirements:\n",
        "        try:\n",
        "            if sys.modules[module].__version__ != expected_version:\n",
        "                printc(\"[✕] {} version should to be {}, but {} is installed.\".format(\n",
        "                    module, expected_version, sys.modules[module].__version__), \"#f44336\")\n",
        "            else:\n",
        "                printc(\"[✓] {} version {} is correct.\".format(\n",
        "                    module, expected_version), \"#4caf50\")\n",
        "        except:\n",
        "            printc(\"[–] {} is not imported, skipping version check.\".format(\n",
        "                module), \"#03a9f4\")"
      ]
    },
    {
      "cell_type": "markdown",
      "metadata": {
        "id": "QEvNqRaqNcIz"
      },
      "source": [
        "---\n",
        "## Part 1. 3D Orientation Tracking\n",
        "\n",
        "Assume that phone is static and phone's local coordinate frame and global/world coordinate frame are aligned at the initial moment. Perform gyro integration for each timestamp onward to calculate the phone's orientation. We will provide you with a trace of gyroscope data in CSV format. There are three columns in the file, representing the gyroscope readings in three **local** axes (unit: $rad / s$). The gyroscope is sampled at 100Hz. Your task is to track the phone’s 3D orientation and **output the end direction in which the phone’s local X axis is pointing at in the global frame**.\n",
        "\n",
        "One way of solving this problem can be:\n",
        "<ol type=\"A\">\n",
        "    <li> Assume the gyroscope’s sample interval is $\\Delta t$. </li>\n",
        "    <li> Get the phone's instant rotation axis and rotation angle in the local frame $(\\vec{l}, \\Delta \\theta)$ for each time stamp $t_{i},$ where $\\vec{l}=\\left(\\omega_{x}, \\omega_{v}, \\omega_{z}\\right)$ and $\\Delta \\theta=\\sqrt{\\left(\\omega_{x}^{2}+\\omega_{v}^{2}+\\omega_{z}^{2}\\right)} \\cdot \\Delta t$ </li>\n",
        "    <li> Project the instant rotation axis $\\vec{l}$ into the global frame using the phone's $3 \\mathrm{D}$ orientation matrix $R_{i}$ at time $t_{i}$. </li>\n",
        "    <li> Convert the instant rotation axis and angle in global frame into the form of rotation matrix $\\Delta R_{i}$. </li>\n",
        "    <li> Find the total 3D rotation matrix for time $t_{i+1}: R_{i+1}=\\Delta R_{i} \\cdot R_{i}$ </li>\n",
        "</ol>\n",
        "\n",
        "--- \n",
        "**Implement the above algorithm in `track_orientation(gyro_file)` below.** \n",
        "\n",
        "Do <b>NOT</b> change the function signature. You are, however, free to define and use helper functions."
      ]
    },
    {
      "cell_type": "code",
      "execution_count": 37,
      "metadata": {
        "id": "LZuvqEbyNcIz"
      },
      "outputs": [],
      "source": [
        "# This function takes 1 argument:\n",
        "#     - gyro_file (string) - name of file containing a sequence of gyroscope data\n",
        "# It returns an array representing the final global direction\n",
        "# in which the phone's local X axis is pointing.\n",
        "def track_orientation(gyro_file):\n",
        "    # Your implementation starts here:\n",
        "    del_t = 1/100\n",
        "    R = np.eye(3)\n",
        "    gyro_pd = pd.read_csv(gyro_file, names=['x', 'y', 'z']) #read csv file\n",
        "    num_samples = len(gyro_pd['x'])\n",
        "\n",
        "    for i in range(num_samples):\n",
        "      # part b\n",
        "      l = np.array([gyro_pd['x'][i], gyro_pd['y'][i], gyro_pd['z'][i]])\n",
        "      dtheta = np.sqrt(np.square(l[0])+np.square(l[1])+np.square(l[2])) * del_t\n",
        "\n",
        "      # part c\n",
        "      l_global = R@l\n",
        "\n",
        "      # part d\n",
        "      c = np.cos(dtheta)\n",
        "      s = np.sin(dtheta)\n",
        "      l = l_global / np.linalg.norm(l_global)\n",
        "      R_delta = np.array([[c + (1 - c) * l[0] ** 2, (1 - c) * l[0] * l[1] - s * l[2], (1 - c) * l[0] * l[2] + s * l[1]],\n",
        "                        [(1 - c) * l[0] * l[1] + s * l[2], c + (1 - c) * l[1] ** 2, (1 - c) * l[1] * l[2] - s * l[0]],\n",
        "                        [(1 - c) * l[0] * l[2] - s * l[1], (1 - c) * l[1] * l[2] + s * l[0], c + (1 - c) * l[2] ** 2]])\n",
        "      \n",
        "      # part e\n",
        "      R = R_delta@R\n",
        "    \n",
        "    x_global = R[:,0]\n",
        "    # print(R)\n",
        "    # print(np.linalg.inv(R))\n",
        "    return x_global"
      ]
    },
    {
      "cell_type": "markdown",
      "metadata": {
        "id": "0rzKgyE4NcI0"
      },
      "source": [
        "### Run & Test\n",
        "Use the cell below to run and test Part 1."
      ]
    },
    {
      "cell_type": "code",
      "execution_count": 38,
      "metadata": {
        "id": "Jgsbl5pCNcI0",
        "outputId": "eb1ac0ef-2724-43e3-e6a6-16068017e301",
        "colab": {
          "base_uri": "https://localhost:8080/",
          "height": 234
        }
      },
      "outputs": [
        {
          "output_type": "display_data",
          "data": {
            "text/plain": [
              "<IPython.core.display.HTML object>"
            ],
            "text/html": [
              "<table><tr><td><h4>Test</h4><td><td><h4>Dataset</h4><td><td><h4>Expected Output</h4><td><td><h4>Your Output</h4><td><td><h4>Deviation</h4><td><td><h4>Result</h4><td><td><h4>Grade</h4><td></tr><tr><td><h4>Final Orientation</h4><td><td><h4>gyro.csv</h4><td><td><h4>[-0.03729062, 0.98638029, -0.16019777]</h4><td><td><h4>[-0.03729113  0.98638175 -0.16018871]</h4><td><td><h4>0.00°</h4><td><td><h4>PASSED</h4><td><td><h4>10 / 10</h4><td></tr><tr><td><h4><i>👻 Hidden test 1 👻</i></h4><td><td><h4><i>???</i></h4><td><td><h4><i>???</i></h4><td><td><h4><i>???</i></h4><td><td><h4><i>???</i></h4><td><td><h4><i>???</i></h4><td><td><h4><i>???</i> / 10</h4><td></tr><tr><td><h4><i>...</i></h4><td><td><h4><i>...</i></h4><td><td><h4><i>...</i></h4><td><td><h4><i>...</i></h4><td><td><h4><i>...</i></h4><td><td><h4><i>...</i></h4><td><td><h4><i>...</i></h4><td></tr><tr><td><h4><i>👻 Hidden test 4 👻</i></h4><td><td><h4><i>???</i></h4><td><td><h4><i>???</i></h4><td><td><h4><i>???</i></h4><td><td><h4><i>???</i></h4><td><td><h4><i>???</i></h4><td><td><h4><i>???</i> / 10</h4><td></tr></table>"
            ]
          },
          "metadata": {}
        }
      ],
      "source": [
        "def get_deviation(calculated, expected):\n",
        "    calculated = np.array(calculated)\n",
        "    expected = np.array(expected)\n",
        "    with np.errstate(divide='ignore', invalid='ignore'):\n",
        "        dot_prod = np.dot(calculated, expected) / \\\n",
        "            np.linalg.norm(calculated) / np.linalg.norm(expected)\n",
        "        return np.degrees(np.arccos(dot_prod))\n",
        "\n",
        "\n",
        "if __name__ == '__main__':\n",
        "    gt_final = [-0.03729062, 0.98638029, -0.16019777]\n",
        "    stu_final = track_orientation('orient_data/gyro.csv')\n",
        "    output = [['Test', 'Dataset', 'Expected Output',\n",
        "               'Your Output', 'Deviation', 'Result', 'Grade']]\n",
        "    final_state = 'FAILED'\n",
        "    final_grade = 0\n",
        "    final_dev = get_deviation(stu_final, gt_final)\n",
        "    if(final_dev < 2):\n",
        "        final_state = 'PASSED'\n",
        "        final_grade = 10\n",
        "    output.append(['Final Orientation', 'gyro.csv',\n",
        "                  gt_final, stu_final, \"{:2.2f}°\".format(final_dev), final_state, \"{} / 10\".format(final_grade)])\n",
        "    output.append(['<i>👻 Hidden test 1 👻</i>','<i>???</i>', '<i>???</i>', '<i>???</i>', '<i>???</i>', '<i>???</i>', '<i>???</i> / 10'])\n",
        "    output.append(['<i>...</i>', '<i>...</i>', '<i>...</i>', '<i>...</i>', '<i>...</i>', '<i>...</i>', '<i>...</i>'])\n",
        "    output.append(['<i>👻 Hidden test 4 👻</i>','<i>???</i>', '<i>???</i>', '<i>???</i>', '<i>???</i>', '<i>???</i>', '<i>???</i> / 10'])\n",
        "    display_table(output)"
      ]
    },
    {
      "cell_type": "markdown",
      "metadata": {
        "id": "6LLCBWzkNcI1"
      },
      "source": [
        "---\n",
        "## Part 2. Step Estimation\n",
        "We have provided you with smartphone accelerometer data collected under three circumstances\n",
        "<ol type=\"A\">\n",
        "  <li>walking with phone in pant pocket</li>\n",
        "  <li>walking with phone held in the hand statically as if the user is looking at it while walking</li>\n",
        "  <li>walking with phone in hand and the hand swinging</li>\n",
        "</ol>\n",
        "\n",
        "there are three columns, representing the accelerometer readings in three local axes(unit: $m / s^{2}$). The accelerometer is sampled at 100Hz.\n",
        "\n",
        "Implement your algorithm in the `calculate_steps(accl_data)` and `calculate_final_position(steps_with_walking_direction, start_position)` functions below. Do NOT change the function signatures. You are, however, free to define and use helper functions. You are expected to use common signal processing and linear algebra functions (e.g., high/low pass filtering, convolution, cross correllation, peak detection, fft etc.) \n",
        "\n",
        "<b>TIP:</b> It may help to first visualize the accelerometer data like you did in MP1."
      ]
    },
    {
      "cell_type": "code",
      "source": [
        "def dc_block(signal, window_size=20):\n",
        "    \"\"\"\n",
        "    Applies a moving average filter of window_size to a numpy array x.\n",
        "    \"\"\"\n",
        "    mean=np.average(signal[:window_size])\n",
        "    output = np.zeros_like(signal)\n",
        "    for i in range(len(signal)):\n",
        "      if i >= window_size:\n",
        "        mean -= signal[i - window_size] / window_size\n",
        "        mean += signal[i] / window_size\n",
        "      output[i] = signal[i] - mean\n",
        "    return output"
      ],
      "metadata": {
        "id": "Yr40tTSggKZt"
      },
      "execution_count": 39,
      "outputs": []
    },
    {
      "cell_type": "code",
      "source": [
        "def threshold(signal, window_size=10):\n",
        "    \"\"\"\n",
        "    The average threshold of the filtered norm.\n",
        "    \"\"\"\n",
        "    mean=0\n",
        "    output = np.zeros_like(signal)\n",
        "    for i in range(len(signal)):\n",
        "      if i >= window_size:\n",
        "        mean -= signal[i - window_size] / window_size\n",
        "      mean += signal[i] / window_size\n",
        "      output[i] = mean\n",
        "    return output"
      ],
      "metadata": {
        "id": "iB5ghmva_bco"
      },
      "execution_count": 43,
      "outputs": []
    },
    {
      "cell_type": "code",
      "source": [
        "from scipy.signal import butter, filtfilt\n",
        "\n",
        "def butter_lowpass(cutoff, fs, order=5):\n",
        "    nyquist = 0.5 * fs\n",
        "    normal_cutoff = cutoff / nyquist\n",
        "    b, a = butter(order, normal_cutoff, btype='lowpass', analog=False)\n",
        "    return b, a\n",
        "\n",
        "def butter_lowpass_filter(data, cutoff, fs, order=5):\n",
        "    b, a = butter_lowpass(cutoff, fs, order=order)\n",
        "    filtered_data = filtfilt(b, a, data)\n",
        "    return filtered_data"
      ],
      "metadata": {
        "id": "UIkf9MXdw_bh"
      },
      "execution_count": 44,
      "outputs": []
    },
    {
      "cell_type": "code",
      "execution_count": 197,
      "metadata": {
        "id": "rBkk7yp1NcI1"
      },
      "outputs": [],
      "source": [
        "def get_step_length():\n",
        "    \"\"\"\n",
        "    step length is approximated to be proportional to the height of pedestrian\n",
        "    \"\"\"\n",
        "    height=1.75 # in meters\n",
        "    return 0.415*height\n",
        "\n",
        "\n",
        "def calculate_steps(accl_data):\n",
        "    \"\"\"\n",
        "    :param accel_data: pandas dataframe with 3 columns, \"x\", \"y\", \"z\" representing acceleration in m/s^2 \n",
        "    and index of dataframe is \"timestamp\"\n",
        "    \n",
        "    returns: pandas dataframe with 2 columns \"timestamp\" and \"steplength\" \n",
        "    \n",
        "    for this MP assume that the step length is same for each step, \n",
        "    use the get_step_length function to get the step length\n",
        "    \n",
        "    the timestamp is the time when the step is detected\n",
        "    \n",
        "    NOTE: timestamps should be among the values in the timestamp column, \n",
        "    you are not expected to do any time interpolation\n",
        "    \"\"\"\n",
        "    ########################################\n",
        "    # Implementation details\n",
        "    # Paper: Design and Implementation of Practical Step Detection Algorithm for Wrist-Worn Devices\n",
        "    # Authors: Yunhoon Cho, Hyuntae Cho, and Chong-Min Kyung, Fellow, IEEE\n",
        "\n",
        "    ### Step Counting using peak detection\n",
        "\n",
        "    ########################################\n",
        "\n",
        "    # Step 1: Data Preprocessing\n",
        "\n",
        "    # Norm Calculation\n",
        "    x = accl_data['x'].values\n",
        "    y = accl_data['y'].values\n",
        "    z = accl_data['z'].values\n",
        "    norm = np.sqrt(np.square(x) + np.square(y) + np.square(z))\n",
        "    \n",
        "    # # comment out #########\n",
        "    # print(\"Length of norm:\", len(norm))\n",
        "    # print(type(norm))\n",
        "    # plt.figure(figsize=(18, 6))\n",
        "    # plt.plot(norm)\n",
        "    # plt.title('Norm, acceleration')\n",
        "    # plt.show()\n",
        "    # #########\n",
        "\n",
        "    # DC component removal\n",
        "    window_size = 20\n",
        "    norm_zeroDC = dc_block(norm, window_size)\n",
        "\n",
        "    # # comment out #########\n",
        "    # print(\"Length of norm_zero_dc:\", len(norm_zeroDC))\n",
        "    # plt.figure(figsize=(18, 6))\n",
        "    # plt.plot(norm_zeroDC)\n",
        "    # plt.title('Norm remove DC offset, acceleration')\n",
        "    # plt.show()\n",
        "    # #########\n",
        "\n",
        "    ########################################\n",
        "\n",
        "    # Step 2: Data Filtering Phase\n",
        "    \n",
        "    # define the transfer function coefficients\n",
        "    h = [1, 2, 3, 4, 5, 6, 7, 8, 9, 10, 9, 8, 7, 6, 5, 4, 3, 2, 1]\n",
        "    # apply the transfer function using convolution and scaling\n",
        "    norm = np.convolve(norm_zeroDC, h, mode='same') / 100\n",
        "\n",
        "    # norm = butter_lowpass_filter(data=norm_zeroDC, cutoff=20, fs=100, order=20)\n",
        "\n",
        "    # # comment out #########\n",
        "    # print(\"Low Pass Filtered Norm:\", len(norm))\n",
        "    # plt.figure(figsize=(18, 6))\n",
        "    # plt.plot(norm)\n",
        "    # plt.title('Low Pass Filtered, acceleration')\n",
        "    # plt.show()\n",
        "    # #########\n",
        "\n",
        "    ########################################\n",
        "\n",
        "    # Step 3: Peak Detection using sign-of-slope method\n",
        "\n",
        "    # Average Threshold of filtered norm calculation with window size of 10\n",
        "    thr_avg = threshold(norm, 10)\n",
        "\n",
        "    peaks, _ = scipy.signal.find_peaks(norm, height=None, threshold=None, distance=None, prominence=0.8\n",
        "                                       , width=None, wlen=None, rel_height=0.5, plateau_size=None)\n",
        "\n",
        "    # print(peaks)\n",
        "    # new_peaks = []\n",
        "    # for i in peaks:\n",
        "    #   if norm[i] >= thr_avg[i]:\n",
        "    #     new_peaks.append(i)\n",
        "    # peaks = np.array(new_peaks)\n",
        "    # print(peaks)\n",
        "    \n",
        "    # # comment out #########\n",
        "    # print(\"Low Pass FIltered Norm:\", len(norm))\n",
        "    # plt.figure(figsize=(18, 6))\n",
        "    # plt.plot(norm)\n",
        "    # plt.title('Low Pass Filtered, acceleration')\n",
        "    # for i in peaks:\n",
        "    #   plt.plot(i, norm[i], 'x', markersize=10, color='red')\n",
        "    # plt.show()\n",
        "    # #########\n",
        "\n",
        "\n",
        "\n",
        "    # replace the following dummy with your implementation\n",
        "    steps = pd.DataFrame({\"timestamp\": np.around(peaks, -1).tolist(), \n",
        "                          \"steplength\": get_step_length()})\n",
        "    # print(type(steps['timestamp'][0]))\n",
        "    \n",
        "    return steps\n",
        "\n",
        "def calculate_final_position(steps_with_walking_direction, start_position):\n",
        "    \"\"\" \n",
        "    :param steps_with_walking_direction: pandas dataframe with 3 columns \"timestamp\", \"steplength\", and \"walking_direction\"\n",
        "    \n",
        "    walking_direction is an angle in degrees with global frame x-axis. It can be from 0 degrees to 360 degrees.\n",
        "    for e.g. if walking direction is 90 degrees, user is walking in the positive y-axis direction\n",
        "    \n",
        "    NOTE: In the given test cases, the walking direction is same through out the trajectory \n",
        "    but in hidden cases the walking direction may change\n",
        "    \n",
        "    step_length is in meters\n",
        "    \n",
        "    :param start_position: starting position of the user. It is tuple (x,y)\n",
        "    \n",
        "    return (x,y) coordinate of the final position in meters\n",
        "    \"\"\"\n",
        "\n",
        "    timestamp = steps_with_walking_direction['timestamp'].values\n",
        "    steplength = steps_with_walking_direction['steplength'].values\n",
        "    walking_direction = steps_with_walking_direction['walking_direction'].values\n",
        "\n",
        "    final_position = [start_position[0], start_position[1]]\n",
        "\n",
        "    for i in range(steps_with_walking_direction.shape[0]):\n",
        "      angle = np.radians(walking_direction[i])\n",
        "      c = np.cos(angle) * steplength[i]\n",
        "      s = np.sin(angle) * steplength[i]\n",
        "      final_position[0] += c\n",
        "      final_position[1] += s\n",
        "\n",
        "\n",
        "\n",
        "\n",
        "    return (final_position[0], final_position[1])"
      ]
    },
    {
      "cell_type": "markdown",
      "metadata": {
        "id": "5yxzqcZqNcI1"
      },
      "source": [
        "### Run & Test\n",
        "Use the cell below to run and test `calculate_steps(accl_data)` and `calculate_final_position(steps_with_walking_direction, start_position)`. "
      ]
    },
    {
      "cell_type": "code",
      "execution_count": 199,
      "metadata": {
        "id": "o19_Yk-eNcI1",
        "outputId": "9da0f62e-c71a-49be-bb73-a5200748925c",
        "colab": {
          "base_uri": "https://localhost:8080/",
          "height": 405
        }
      },
      "outputs": [
        {
          "output_type": "display_data",
          "data": {
            "text/plain": [
              "<IPython.core.display.HTML object>"
            ],
            "text/html": [
              "<table><tr><td><h4>Dataset</h4><td><td><h4>Expected Number Steps</h4><td><td><h4>Your Number of Steps</h4><td><td><h4>Expected Final Position</h4><td><td><h4>Your Final Position</h4><td><td><h4>Grade</h4><td></tr><tr><td><h4>holdstatic_20steps.csv</h4><td><td><h4>20</h4><td><td><h4>20</h4><td><td><h4>(12.58, 7.26)</h4><td><td><h4>(12.579018989968976, 7.262500000000001)</h4><td><td><h4>5.00 / 5.00</h4><td></tr><tr><td><h4>inpocket_26steps.csv</h4><td><td><h4>26</h4><td><td><h4>26</h4><td><td><h4>(18.88, 0.0)</h4><td><td><h4>(18.882500000000004, 0.0)</h4><td><td><h4>5.00 / 5.00</h4><td></tr><tr><td><h4>inpocket_36steps.csv</h4><td><td><h4>36</h4><td><td><h4>37</h4><td><td><h4>(0.0, 26.14)</h4><td><td><h4>(1.6453895150794146e-15, 26.871250000000007)</h4><td><td><h4>5.00 / 5.00</h4><td></tr><tr><td><h4>swing_32steps.csv</h4><td><td><h4>32</h4><td><td><h4>32</h4><td><td><h4>(-23.24, 0.0)</h4><td><td><h4>(-23.240000000000006, 2.8460791612184474e-15)</h4><td><td><h4>5.00 / 5.00</h4><td></tr><tr><td><h4>swing_38steps.csv</h4><td><td><h4>38</h4><td><td><h4>39</h4><td><td><h4>(0.0, -27.6)</h4><td><td><h4>(-5.2029884666024755e-15, -28.323750000000008)</h4><td><td><h4>5.00 / 5.00</h4><td></tr><tr><td><h4><i>👻 Hidden test 1 👻</i></h4><td><td><h4><i>???</i></h4><td><td><h4><i>???</i></h4><td><td><h4><i>???</i></h4><td><td><h4><i>???</i></h4><td><td><h4><i>???</i> / 15.00</h4><td></tr><tr><td><h4><i>...</i></h4><td><td><h4><i>...</i></h4><td><td><h4><i>...</i></h4><td><td><h4><i>...</i></h4><td><td><h4><i>...</i></h4><td><td><h4><i>...</i></h4><td></tr><tr><td><h4><i>👻 Hidden test 5 👻</i></h4><td><td><h4><i>???</i></h4><td><td><h4><i>???</i></h4><td><td><h4><i>???</i></h4><td><td><h4><i>???</i></h4><td><td><h4><i>???</i> / 15.00</h4><td></tr></table>"
            ]
          },
          "metadata": {}
        }
      ],
      "source": [
        "def estimate_steps_score(calculated, expected):\n",
        "    delta = abs(calculated - expected)\n",
        "    return 1 if(delta <= 2) else max((1 - abs(delta - 2) / expected), 0)\n",
        "\n",
        "def estimate_pdr_score(calculated, expected):\n",
        "    error = math.sqrt((calculated[0] - expected[0])**2 + (calculated[1] - expected[1])**2)\n",
        "    # error more than 5 meters, score is 0\n",
        "    return 1.0 if (error <= 2.0) else max(0, 1-(error-2.0)/3)\n",
        "\n",
        "\n",
        "if __name__ == '__main__':\n",
        "    data_dir = \"accel_data\"\n",
        "    walk_accl_files = ['holdstatic_20steps.csv', 'inpocket_26steps.csv',\n",
        "                       'inpocket_36steps.csv', 'swing_32steps.csv', 'swing_38steps.csv']\n",
        "    groundtruth_numsteps = [20, 26, 36, 32, 38]\n",
        "    groundtruth_final_positions = [(12.58, 7.26), (18.88, 0.0), (0.0, 26.14), (-23.24, 0.0), (0.0, -27.6)]\n",
        "    output = [['Dataset', 'Expected Number Steps', 'Your Number of Steps', 'Expected Final Position', 'Your Final Position', 'Grade']]\n",
        "    for i in range(len(groundtruth_numsteps)):\n",
        "        accel_data = pd.read_csv(str(Path(data_dir) / walk_accl_files[i]))\n",
        "        accel_data = accel_data.set_index(\"timestamp\", drop=True)\n",
        "        calculated = calculate_steps(accel_data)\n",
        "        assert len(calculated.columns)==2\n",
        "        assert \"timestamp\" in calculated.columns\n",
        "        assert \"steplength\" in calculated.columns\n",
        "        calculated_num_steps = calculated.shape[0]\n",
        "        calculated[\"walking_direction\"] = accel_data[\"walking_direction\"][calculated[\"timestamp\"]].values\n",
        "        calculated_final_position = calculate_final_position(calculated, (0.0,0.0))\n",
        "        steps_score = estimate_steps_score(calculated_num_steps, groundtruth_numsteps[i])\n",
        "        pdr_score = estimate_pdr_score(calculated_final_position, groundtruth_final_positions[i])\n",
        "        # final score is weighted sum of both scores\n",
        "        score = 0.7*steps_score + 0.3*pdr_score\n",
        "        output.append([walk_accl_files[i], groundtruth_numsteps[i],\n",
        "                      calculated_num_steps, groundtruth_final_positions[i], calculated_final_position,  \"{:2.2f} / 5.00\".format(score * 5)])\n",
        "    output.append(['<i>👻 Hidden test 1 👻</i>','<i>???</i>', '<i>???</i>','<i>???</i>', '<i>???</i>', '<i>???</i> / 15.00'])\n",
        "    output.append(['<i>...</i>', '<i>...</i>', '<i>...</i>', '<i>...</i>', '<i>...</i>', '<i>...</i>'])\n",
        "    output.append(['<i>👻 Hidden test 5 👻</i>','<i>???</i>', '<i>???</i>','<i>???</i>', '<i>???</i>', '<i>???</i> / 15.00'])\n",
        "    display_table(output)"
      ]
    },
    {
      "cell_type": "markdown",
      "metadata": {
        "id": "XEfV_hvuNcI2"
      },
      "source": [
        "---\n",
        "## Rubric\n",
        "\n",
        "####  Orientation Tracking (100 points) \n",
        "You will be graded on the provided data as well as 4 addition sets of data. They are each worth 20 points. A 2-degree error is tolerated. For results greater than the error threshold, no points will be rewarded since we provided a detailed algorithm to follow. The test data also include the simple case where the phone will only rotate along Z axis onwards. (In case you find the MP too difficult, only doing 1D integration on Z axis should at least give you some points.)\n",
        "\n",
        "#### Step Estimation (100 points) \n",
        "You will be graded on the 5 sets of provided data (5 points each), as well as 5 sets of hidden data (15 points each). For each test case, the grade depends on how much the result deviates from the groudtruth. A 2-step error for the provided data is tolerated. A 4-step error for the hidden data is tolerated. For results greater than the error threshold, your score will be scaled proportionally. The score is the weighted sum of PDR error i.e., deviation from the final position and the step count detection accuracy."
      ]
    },
    {
      "cell_type": "markdown",
      "metadata": {
        "id": "vPniitZiNcI2"
      },
      "source": [
        "---\n",
        "## Submission Guideline\n",
        "This Jupyter notebook is the only file you need to submit on Gradescope. Make sure to fill your name at the top of this file.\n",
        "\n",
        "**Make sure any code you added to this notebook, except for import statements, is either in a function or guarded by `__main__`(which won't be run by the autograder). Gradescope will give you immediate feedback using the provided test cases. It is your responsibility to check the output before the deadline to ensure your submission runs with the autograder.**"
      ]
    }
  ],
  "metadata": {
    "kernelspec": {
      "display_name": "Python 3",
      "language": "python",
      "name": "python3"
    },
    "language_info": {
      "codemirror_mode": {
        "name": "ipython",
        "version": 3
      },
      "file_extension": ".py",
      "mimetype": "text/x-python",
      "name": "python",
      "nbconvert_exporter": "python",
      "pygments_lexer": "ipython3",
      "version": "3.8.10"
    },
    "colab": {
      "provenance": []
    }
  },
  "nbformat": 4,
  "nbformat_minor": 0
}